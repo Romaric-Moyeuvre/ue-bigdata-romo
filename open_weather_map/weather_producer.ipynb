{
 "cells": [
  {
   "cell_type": "markdown",
   "metadata": {},
   "source": [
    "## **STREAMING - OpenWeatherMap**"
   ]
  },
  {
   "cell_type": "code",
   "execution_count": null,
   "metadata": {},
   "outputs": [],
   "source": [
    "import datetime\n",
    "import json\n",
    "import kafka\n",
    "import time\n",
    "import requests"
   ]
  },
  {
   "cell_type": "code",
   "execution_count": null,
   "metadata": {},
   "outputs": [],
   "source": [
    "with open(\"/variables.json\", \"r\") as file :\n",
    "    data = json.load(file)\n",
    "\n",
    "apikey = data[\"apikey\"]\n",
    "locations = data[\"locations\"]\n",
    "plants = data[\"plants\"]\n",
    "\n",
    "# Kafka configuration\n",
    "kafka_broker = data[\"kafka\"][\"broker\"]\n",
    "kafka_topic = data[\"kafka\"][\"topic\"]\n",
    "\n",
    "URL_timemachine = \"https://api.openweathermap.org/data/3.0/onecall/timemachine\""
   ]
  },
  {
   "cell_type": "code",
   "execution_count": null,
   "metadata": {},
   "outputs": [],
   "source": [
    "producer = kafka.KafkaProducer(\n",
    "    bootstrap_servers=kafka_broker,\n",
    "    value_serializer=lambda v: json.dumps(v).encode('utf-8')\n",
    ")"
   ]
  },
  {
   "cell_type": "code",
   "execution_count": null,
   "metadata": {},
   "outputs": [],
   "source": [
    "def url(lat, lon, dt, units=\"metric\") :\n",
    "    return URL_timemachine + \"?lat=%f&lon=%f&dt=%d&appid=%s&units=%s\"%(lat, lon, dt, apikey, units)\n",
    "\n",
    "def preprocess(data) :\n",
    "    res =  {\"lat\": data[\"lat\"], \"lon\": data[\"lon\"]}\n",
    "    res.update(data[\"data\"][0])\n",
    "    res.pop(\"weather\", None)\n",
    "    date = datetime.datetime.fromtimestamp(res[\"dt\"])\n",
    "    res[\"day\"] =  date.day\n",
    "    res[\"month\"] = date.month\n",
    "    res[\"year\"] = date.year\n",
    "    res[\"hour\"] = date.hour\n",
    "    res[\"minute\"] = date.minute\n",
    "    return res\n",
    "\n",
    "def fetch(url) :\n",
    "    response = requests.get(url)\n",
    "    if response.status_code == 200 :\n",
    "        data = response.json()\n",
    "        return preprocess(data)\n",
    "    else :\n",
    "        return None\n",
    "\n",
    "def collect(location = locations[\"nantes\"], hours = range(8, 19), duration = 1) :\n",
    "    day = datetime.date.today()\n",
    "    for i in range(duration) :\n",
    "        for hour in hours :\n",
    "            dt_utc = datetime.datetime(day.year, day.month, day.day, hour, 30)\n",
    "            unix_timestamp = int(dt_utc.timestamp())\n",
    "            data_i = fetch(url(location[\"lat\"], location[\"lon\"], unix_timestamp))\n",
    "            if data_i :\n",
    "                producer.send(kafka_topic, value=data_i)\n",
    "        producer.flush()\n",
    "        print(\"Batch %d sent !\"%(i + 1))\n",
    "        time.sleep(2)\n",
    "        day = day + datetime.timedelta(days = -1)"
   ]
  },
  {
   "cell_type": "code",
   "execution_count": null,
   "metadata": {},
   "outputs": [],
   "source": [
    "collect(duration = 7*5)"
   ]
  }
 ],
 "metadata": {
  "kernelspec": {
   "display_name": "Python 3 (ipykernel)",
   "language": "python",
   "name": "python3"
  }
 },
 "nbformat": 4,
 "nbformat_minor": 2
}
