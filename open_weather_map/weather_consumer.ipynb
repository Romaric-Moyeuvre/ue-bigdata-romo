{
 "cells": [
  {
   "cell_type": "markdown",
   "metadata": {},
   "source": [
    "## **STREAMING - OpenWeatherMap**"
   ]
  },
  {
   "cell_type": "code",
   "execution_count": null,
   "metadata": {},
   "outputs": [],
   "source": [
    "import json\n",
    "import pyspark\n",
    "from pyspark.sql.functions import from_json, col, when, avg, window\n",
    "from pyspark.sql.types import StructType, StructField, StringType, IntegerType, TimestampType, FloatType"
   ]
  },
  {
   "cell_type": "code",
   "execution_count": null,
   "metadata": {},
   "outputs": [],
   "source": [
    "with open(\"/variables.json\", \"r\") as file :\n",
    "    data = json.load(file)\n",
    "\n",
    "apikey = data[\"apikey\"]\n",
    "locations = data[\"locations\"]\n",
    "plants = data[\"plants\"]\n",
    "\n",
    "# Kafka configuration\n",
    "kafka_broker = data[\"kafka\"][\"broker\"]\n",
    "kafka_topic = data[\"kafka\"][\"topic\"]"
   ]
  },
  {
   "cell_type": "code",
   "execution_count": null,
   "metadata": {},
   "outputs": [],
   "source": [
    "conf = pyspark.SparkConf() \\\n",
    "    .setAppName('SparkApp') \\\n",
    "    .setMaster('spark://spark:7077') \\\n",
    "    .set(\"spark.jars.packages\", \"org.apache.hadoop:hadoop-aws:3.3.4,org.apache.spark:spark-sql-kafka-0-10_2.12:3.5.3\") \\\n",
    "    .set(\"spark.sql.shuffle.partitions\", \"10\")\n",
    "\n",
    "spark_context = pyspark.SparkContext.getOrCreate(conf=conf)\n",
    "sql_context = pyspark.sql.SQLContext(spark_context)"
   ]
  },
  {
   "cell_type": "code",
   "execution_count": null,
   "metadata": {},
   "outputs": [],
   "source": [
    "# Define schema for the Kafka message\n",
    "schema = StructType([\n",
    "    StructField(\"dt\", IntegerType(), True),\n",
    "    StructField(\"day\", IntegerType(), True),\n",
    "    StructField(\"month\", IntegerType(), True),\n",
    "    StructField(\"year\", IntegerType(), True),\n",
    "    StructField(\"hour\", IntegerType(), True),\n",
    "    StructField(\"minute\", IntegerType(), True),\n",
    "    StructField(\"clouds\", IntegerType(), True),\n",
    "    StructField(\"temp\", FloatType(), True),\n",
    "    StructField(\"feels_like\", FloatType(), True),\n",
    "    StructField(\"humidity\", FloatType(), True),\n",
    "    StructField(\"visibility\", IntegerType(), True)\n",
    "])\n",
    "\n",
    "# Read raw data from Kafka\n",
    "raw_stream = sql_context.readStream \\\n",
    "    .format(\"kafka\") \\\n",
    "    .option(\"kafka.bootstrap.servers\", kafka_broker) \\\n",
    "    .option(\"subscribe\", kafka_topic) \\\n",
    "    .option(\"startingOffsets\", \"earliest\") \\\n",
    "    .load()\n",
    "\n",
    "# Parse Kafka messages\n",
    "parsed_stream = raw_stream.selectExpr(\"CAST(value AS STRING) AS message\") \\\n",
    "    .select(from_json(col(\"message\"), schema).alias(\"data\")) \\\n",
    "    .select(\n",
    "        col(\"data.dt\").cast(TimestampType()).alias(\"dt\"),  # Convert timestamp to Spark TimestampType\n",
    "        col(\"data.day\").alias(\"day\"),\n",
    "        col(\"data.month\").alias(\"month\"),\n",
    "        col(\"data.year\").alias(\"year\"),\n",
    "        col(\"data.hour\").alias(\"hour\"),\n",
    "        col(\"data.minute\").alias(\"minute\"),\n",
    "        col(\"data.clouds\").alias(\"clouds\"),\n",
    "        col(\"data.temp\").alias(\"temp\"),\n",
    "        col(\"data.feels_like\").alias(\"feels_like\"),\n",
    "        col(\"data.humidity\").alias(\"humidity\"),\n",
    "        col(\"data.visibility\").alias(\"visibility\")\n",
    "    )\n",
    "\n",
    "transformed_stream = parsed_stream \\\n",
    "    .withColumn(\"morning\", when(col(\"hour\") > 13, 1).otherwise(2)) \\\n",
    "    .withColumn(\"hash\", ((col(\"year\")*10000+col(\"month\"))*100+col(\"day\"))*10+col(\"morning\")) \\\n",
    "    .withWatermark(\"dt\", \"10 minutes\") \n",
    "\n",
    "rolling_average = transformed_stream \\\n",
    "    .groupBy(\"hash\", window(col(\"dt\"), \"5 minutes\")) \\\n",
    "    .agg(\n",
    "        avg(\"clouds\").alias(\"avg_clouds\"),\n",
    "        avg(\"temp\").alias(\"avg_temp\"),\n",
    "        avg(\"feels_like\").alias(\"avg_feels_like\"),\n",
    "        avg(\"humidity\").alias(\"avg_humidity\"),\n",
    "        avg(\"visibility\").alias(\"avg_visibility\")\n",
    "    ) \n",
    "\n",
    "# Output rolling average to the console\n",
    "query = rolling_average.writeStream \\\n",
    "    .outputMode(\"append\") \\\n",
    "    .format(\"console\") \\\n",
    "    .option(\"truncate\", \"false\") \\\n",
    "    .start()\n",
    "\n",
    "query.awaitTermination()"
   ]
  },
  {
   "cell_type": "code",
   "execution_count": null,
   "metadata": {},
   "outputs": [],
   "source": [
    "query.stop()"
   ]
  }
 ],
 "metadata": {
  "kernelspec": {
   "display_name": "Python 3 (ipykernel)",
   "language": "python",
   "name": "python3"
  }
 },
 "nbformat": 4,
 "nbformat_minor": 2
}
