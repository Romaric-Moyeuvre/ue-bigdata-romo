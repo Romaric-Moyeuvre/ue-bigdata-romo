{
 "cells": [
  {
   "cell_type": "code",
   "execution_count": null,
   "metadata": {},
   "outputs": [],
   "source": [
    "import neo4j\n",
    "import pandas\n",
    "import pyspark\n",
    "import random\n",
    "import requests"
   ]
  },
  {
   "cell_type": "code",
   "execution_count": null,
   "metadata": {},
   "outputs": [],
   "source": [
    "neo4j_url = \"neo4j://neo4j:7687\"\n",
    "neo4j_user = \"neo4j\"\n",
    "neo4j_password = \"neo4jtp9\"\n",
    "\n",
    "URI = neo4j_url\n",
    "AUTH = (neo4j_user, neo4j_password)\n",
    "\n",
    "with neo4j.GraphDatabase.driver(URI, auth=AUTH) as driver:\n",
    "    driver.verify_connectivity()"
   ]
  },
  {
   "cell_type": "code",
   "execution_count": null,
   "metadata": {},
   "outputs": [],
   "source": [
    "spark_session = (pyspark.sql.SparkSession.builder\n",
    "    .master('spark://spark:7077')\n",
    "    .appName('Data engineering workflow with Neo4j and Spark')\n",
    "    .config('spark.ui.port', '4050')\n",
    "    .config('spark.sql.repl.eagerEval.enabled', True)\n",
    "    .config('spark.jars.packages', 'org.neo4j:neo4j-connector-apache-spark_2.12:5.1.0_for_spark_3,graphframes:graphframes:0.8.4-spark3.5-s_2.12')\n",
    "    .config(\"neo4j.url\", neo4j_url)\n",
    "    .config(\"neo4j.authentication.type\", \"basic\")\n",
    "    .config(\"neo4j.authentication.scheme\", \"basic\")\n",
    "    .config(\"neo4j.authentication.basic.username\", neo4j_user)\n",
    "    .config(\"neo4j.authentication.basic.password\", neo4j_password)\n",
    "    .getOrCreate())"
   ]
  },
  {
   "cell_type": "code",
   "execution_count": null,
   "metadata": {},
   "outputs": [],
   "source": [
    "arrets_information = requests.get(\"https://open.tan.fr/ewp/arrets.json\")"
   ]
  },
  {
   "cell_type": "code",
   "execution_count": null,
   "metadata": {},
   "outputs": [],
   "source": [
    "arrets = []\n",
    "lignes = set()\n",
    "relations = []\n",
    "if arrets_information.status_code == 200 :\n",
    "    data = arrets_information.json()\n",
    "    for arret in data :\n",
    "        arrets.append({\"codeLieu\": arret[\"codeLieu\"], \"libelle\": arret[\"libelle\"]})\n",
    "        for l in arret[\"ligne\"] :\n",
    "            lignes.add(l[\"numLigne\"])\n",
    "            relations.append((arret[\"codeLieu\"], l[\"numLigne\"]))\n",
    "\n",
    "nb_arrets =len(arrets)\n",
    "nb_lignes =len(lignes)\n",
    "nb_relations =len(relations)"
   ]
  },
  {
   "cell_type": "code",
   "execution_count": null,
   "metadata": {},
   "outputs": [],
   "source": [
    "SEUIL = 30\n",
    "\n",
    "lignes_to_remove = []\n",
    "for ligne in lignes :\n",
    "    taille = len(list(filter(lambda x: x[1] == ligne, relations)))\n",
    "    if taille < SEUIL :\n",
    "        lignes_to_remove.append(ligne)\n",
    "\n",
    "for ligne in lignes_to_remove :\n",
    "    lignes.remove(ligne)\n",
    "\n",
    "relations = list(filter(lambda x: x[1] in lignes, relations))\n",
    "\n",
    "arrets_to_keep = set()\n",
    "for relation in relations :\n",
    "    arrets_to_keep.add(relation[0])\n",
    "arrets = list(filter(lambda x: x[\"codeLieu\"] in arrets_to_keep, arrets))\n",
    "\n",
    "nb_arrets_2 = len(arrets)\n",
    "nb_lignes_2 = len(lignes)\n",
    "nb_relations_2 = len(relations)\n",
    "\n",
    "print(\"Arret : \", nb_arrets)\n",
    "print(\"Ligne : \", nb_lignes)\n",
    "print(\"Relation : \", nb_relations)\n",
    "print(\"==========\")\n",
    "print(\"Arret : \", nb_arrets_2)\n",
    "print(\"Ligne : \", nb_lignes_2)\n",
    "print(\"Relation : \", nb_relations_2)"
   ]
  },
  {
   "cell_type": "code",
   "execution_count": null,
   "metadata": {},
   "outputs": [],
   "source": [
    "driver = neo4j.GraphDatabase.driver(URI, auth=AUTH)\n",
    "session = driver.session()"
   ]
  },
  {
   "cell_type": "code",
   "execution_count": null,
   "metadata": {},
   "outputs": [],
   "source": [
    "driver.execute_query(\"MATCH (a)-[r]->() DELETE a, r\")\n",
    "driver.execute_query(\"MATCH (a) DELETE a\")\n",
    "\n",
    "for arret in arrets :\n",
    "    driver.execute_query(\"CREATE (%s:Arret {codeArret:'%s' ,libelle:'%s'})\"%(arret[\"codeLieu\"], arret[\"codeLieu\"], arret[\"libelle\"].replace(\"'\", \" \")))\n",
    "\n",
    "for ligne in lignes :\n",
    "    driver.execute_query(\"CREATE (L_%s:Ligne {numLigne:'%s'})\"%(ligne, ligne))\n",
    "\n",
    "for relation in relations :\n",
    "    driver.execute_query(\"MATCH (a:Arret {codeArret: '%s'}), (b:Ligne {numLigne: '%s'}) MERGE (a)-[:IN]->(b)\"%(relation[0], relation[1]))\n",
    "    driver.execute_query(\"MATCH (a:Arret {codeArret: '%s'}), (b:Ligne {numLigne: '%s'}) MERGE (b)-[:IN]->(a)\"%(relation[0], relation[1]))"
   ]
  },
  {
   "cell_type": "code",
   "execution_count": null,
   "metadata": {},
   "outputs": [],
   "source": [
    "df_arrets = (spark_session.read\n",
    "    .format('org.neo4j.spark.DataSource')\n",
    "    .option('labels', ':Arret')\n",
    "    .load())\n",
    "\n",
    "df_arrets.show()"
   ]
  },
  {
   "cell_type": "code",
   "execution_count": null,
   "metadata": {},
   "outputs": [],
   "source": [
    "df_lignes = (spark_session.read\n",
    "    .format('org.neo4j.spark.DataSource')\n",
    "    .option('labels', ':Ligne')\n",
    "    .load())\n",
    "\n",
    "df_lignes.show()"
   ]
  },
  {
   "cell_type": "code",
   "execution_count": null,
   "metadata": {},
   "outputs": [],
   "source": [
    "df_relations = (spark_session.read\n",
    "    .format('org.neo4j.spark.DataSource')\n",
    "    .option('relationship', 'IN')\n",
    "    .option('relationship.source.labels', ':Arret')\n",
    "    .option('relationship.target.labels', ':Ligne')\n",
    "    .load())\n",
    "\n",
    "df_relations = df_relations.withColumnsRenamed({\n",
    "    \"<rel.id>\":\"id\",\n",
    "    \"<rel.type>\":\"relationship\",\n",
    "    \"<source.id>\":\"src\",\n",
    "    \"<source.labels>\":\"source_labels\",\n",
    "    \"source.libelle\":\"source_libelle\",\n",
    "    \"source.codeArret\":\"source_codeArret\",\n",
    "    \"<target.id>\":\"dst\",\n",
    "    \"<target.labels>\":\"target_labels\",\n",
    "    \"target.numLigne\":\"target_numLigne\"\n",
    "})\n",
    "\n",
    "df_relations.show()"
   ]
  },
  {
   "cell_type": "code",
   "execution_count": null,
   "metadata": {},
   "outputs": [],
   "source": [
    "df_arrets_id = df_arrets.withColumnsRenamed({\"<id>\": \"id\", \"<labels>\": \"labels\", \"codeArret\": \"name\"}).select(\"id\", \"labels\", \"name\")\n",
    "df_lignes_id = df_lignes.withColumnsRenamed({\"<id>\": \"id\", \"<labels>\": \"labels\", \"numLigne\": \"name\"}).select(\"id\", \"labels\", \"name\")\n",
    "df_arrets_et_lignes = df_arrets_id.union(df_lignes_id)\n",
    "\n",
    "df_arrets_et_lignes.show()"
   ]
  },
  {
   "cell_type": "code",
   "execution_count": null,
   "metadata": {},
   "outputs": [],
   "source": [
    "records, summary, keys = driver.execute_query(\n",
    "    \"\"\"\n",
    "    MATCH   (a1:Arret)-[:IN]->(l1:Ligne),\n",
    "            (a2:Arret)-[:IN]->(l1)\n",
    "    WHERE   a1.codeArret = 'CTRE'\n",
    "    ORDER BY l1.numLigne, a2.codeArret\n",
    "    RETURN DISTINCT a1.codeArret, l1.numLigne, a2.codeArret\n",
    "    \"\"\",\n",
    ")\n",
    "\n",
    "pandas.DataFrame(records, columns=keys)"
   ]
  },
  {
   "cell_type": "code",
   "execution_count": null,
   "metadata": {},
   "outputs": [],
   "source": [
    "records, summary, keys = driver.execute_query(\n",
    "    \"\"\"\n",
    "    MATCH   p = ALL SHORTEST (a1:Arret)-[:IN]-+(a2:Arret)\n",
    "    WHERE   a1.codeArret = 'CTRE' AND a2.codeArret = 'INRE'\n",
    "    RETURN  DISTINCT [n in nodes(p) WHERE n:Arret | n.codeArret] AS stops\n",
    "    \"\"\"\n",
    ")\n",
    "\n",
    "pandas.DataFrame(records, columns=keys)"
   ]
  },
  {
   "cell_type": "code",
   "execution_count": null,
   "metadata": {},
   "outputs": [],
   "source": [
    "pandas_df = driver.execute_query(\n",
    "    \"\"\"\n",
    "    MATCH   p = ALL SHORTEST (a1:Arret)-[:IN]-+(a2:Arret)\n",
    "    WHERE   a1.codeArret = 'CTRE' AND a2.codeArret = 'BCGA'\n",
    "    RETURN  DISTINCT [n in nodes(p) WHERE n:Arret | n.codeArret] AS stops\n",
    "    \"\"\",\n",
    "    result_transformer_ = neo4j.Result.to_df\n",
    ")\n",
    "\n",
    "pandas_df"
   ]
  },
  {
   "cell_type": "code",
   "execution_count": null,
   "metadata": {},
   "outputs": [],
   "source": [
    "random_source = random.choice(arrets)\n",
    "random_target = random.choice(arrets)\n",
    "\n",
    "print(\"Random Source : \", random_source)\n",
    "print(\"Random Target : \", random_target)\n",
    "\n",
    "pandas_df = driver.execute_query(\n",
    "    \"\"\"\n",
    "    MATCH   p = ALL SHORTEST (a1:Arret)-[:IN]-+(a2:Arret)\n",
    "    WHERE   a1.codeArret = '%s' AND a2.codeArret = '%s'\n",
    "    RETURN  DISTINCT [n in nodes(p) WHERE n:Arret | n.codeArret] AS stops\n",
    "    ORDER BY stops\n",
    "    \"\"\"%(random_source[\"codeLieu\"], random_target[\"codeLieu\"]),\n",
    "    result_transformer_ = neo4j.Result.to_df\n",
    ")\n",
    "\n",
    "pandas_df"
   ]
  }
 ],
 "metadata": {
  "kernelspec": {
   "display_name": "Python 3 (ipykernel)",
   "language": "python",
   "name": "python3"
  }
 },
 "nbformat": 4,
 "nbformat_minor": 2
}
